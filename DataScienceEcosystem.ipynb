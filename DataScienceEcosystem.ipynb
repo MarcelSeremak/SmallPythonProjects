{
 "cells": [
  {
   "cell_type": "markdown",
   "id": "8297874d-4750-4dcc-9c9b-e372d841af0b",
   "metadata": {},
   "source": [
    "# Data Science Tools and Ecosystem"
   ]
  },
  {
   "cell_type": "markdown",
   "id": "f8e928db-d036-4288-867f-10a609ea21c6",
   "metadata": {},
   "source": [
    "In this notebook, Data Science Tools and Ecosystem are summarized."
   ]
  },
  {
   "cell_type": "markdown",
   "id": "0186b0e5-348c-449c-80cf-d937f0ecfa97",
   "metadata": {},
   "source": [
    "**Objectives:**\n",
    "- Arithmetic\n",
    "- DS Languages\n",
    "- DS Libraries"
   ]
  },
  {
   "cell_type": "markdown",
   "id": "2fa6b184-e71e-4672-b58b-ac680c44b104",
   "metadata": {},
   "source": [
    "Some of the popular languages that Data Scientists use are:\n",
    "1. Julia\n",
    "2. Python\n",
    "3. R\n",
    "4. C++"
   ]
  },
  {
   "cell_type": "markdown",
   "id": "c8bff879-5b75-4681-a87f-03bec790b100",
   "metadata": {},
   "source": [
    "Some of the commonly used libraries used by Data Scientists include:\n",
    "1. Scikitlearn\n",
    "2. ggpplot\n",
    "3. GGally\n",
    "4. pandas\n",
    "5. numpy"
   ]
  },
  {
   "cell_type": "markdown",
   "id": "ba0b643d-ecfc-4540-a285-5b13f55bf2b4",
   "metadata": {},
   "source": [
    "| Data Science Tools |\n",
    "| --- |\n",
    "| git/GitHub |\n",
    "| Gitlab |\n",
    "| Jupter |\n",
    "| Apache |"
   ]
  },
  {
   "cell_type": "markdown",
   "id": "76926f7e-1bc8-46e7-8bb7-723fe2922456",
   "metadata": {},
   "source": [
    "### Below are a few examples of evaluating arithmetic expressions in Python"
   ]
  },
  {
   "cell_type": "code",
   "execution_count": 12,
   "id": "b262efc2-5703-4515-b941-a51484cee33f",
   "metadata": {},
   "outputs": [
    {
     "data": {
      "text/plain": [
       "17"
      ]
     },
     "execution_count": 12,
     "metadata": {},
     "output_type": "execute_result"
    }
   ],
   "source": [
    "# This a simple arithmetic expression to mutiply then add integers\n",
    "(3*4)+5"
   ]
  },
  {
   "cell_type": "code",
   "execution_count": 14,
   "id": "9aa1525a-054e-4c42-abde-3cb196050a7f",
   "metadata": {},
   "outputs": [
    {
     "data": {
      "text/plain": [
       "3.3333333333333335"
      ]
     },
     "execution_count": 14,
     "metadata": {},
     "output_type": "execute_result"
    }
   ],
   "source": [
    "# This will convert 200 minutes to hours by diving by 60\n",
    "200/60"
   ]
  },
  {
   "cell_type": "code",
   "execution_count": null,
   "id": "66d640cb-2d1b-4861-87c9-ecb1b585a29f",
   "metadata": {},
   "outputs": [],
   "source": []
  }
 ],
 "metadata": {
  "kernelspec": {
   "display_name": "Python 3 (ipykernel)",
   "language": "python",
   "name": "python3"
  },
  "language_info": {
   "codemirror_mode": {
    "name": "ipython",
    "version": 3
   },
   "file_extension": ".py",
   "mimetype": "text/x-python",
   "name": "python",
   "nbconvert_exporter": "python",
   "pygments_lexer": "ipython3",
   "version": "3.12.4"
  }
 },
 "nbformat": 4,
 "nbformat_minor": 5
}
